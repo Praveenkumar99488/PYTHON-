{
 "cells": [
  {
   "cell_type": "code",
   "execution_count": 5,
   "metadata": {},
   "outputs": [
    {
     "name": "stdout",
     "output_type": "stream",
     "text": [
      "(5, 15)\n"
     ]
    }
   ],
   "source": [
    "def list_info(numbers):\n",
    "    length = 0 \n",
    "    total_sum = 0 \n",
    "\n",
    "    for number in numbers:  \n",
    "        length += 1  \n",
    "        total_sum += number  \n",
    "    \n",
    "    return length, total_sum\n",
    "\n",
    "\n",
    "number_list = [1, 2, 3, 4, 5]\n",
    "total = list_info(number_list)\n",
    "print(list_info(number_list))\n",
    "\n"
   ]
  },
  {
   "cell_type": "code",
   "execution_count": null,
   "metadata": {},
   "outputs": [],
   "source": []
  }
 ],
 "metadata": {
  "kernelspec": {
   "display_name": "Python 3",
   "language": "python",
   "name": "python3"
  },
  "language_info": {
   "codemirror_mode": {
    "name": "ipython",
    "version": 3
   },
   "file_extension": ".py",
   "mimetype": "text/x-python",
   "name": "python",
   "nbconvert_exporter": "python",
   "pygments_lexer": "ipython3",
   "version": "3.12.5"
  }
 },
 "nbformat": 4,
 "nbformat_minor": 2
}
