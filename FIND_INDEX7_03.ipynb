{
 "cells": [
  {
   "cell_type": "code",
   "execution_count": null,
   "metadata": {},
   "outputs": [],
   "source": [
    "def find_index(numbers, target):\n",
    "    for index, num in enumerate(numbers):\n",
    "        if num == target:\n",
    "            return index  \n",
    "    return -1 \n",
    "\n",
    "\n",
    "numbers_list = [10, 20, 30, 40, 50]\n",
    "target_number = 30\n",
    "index = find_index(numbers_list, target_number)\n",
    "print(f'Index of {target_number}: {index}') \n"
   ]
  }
 ],
 "metadata": {
  "language_info": {
   "name": "python"
  }
 },
 "nbformat": 4,
 "nbformat_minor": 2
}
