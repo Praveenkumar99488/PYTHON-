{
 "cells": [
  {
   "cell_type": "code",
   "execution_count": null,
   "metadata": {},
   "outputs": [],
   "source": [
    "def count_even_digits(n):\n",
    "    if n < 1:\n",
    "        raise ValueError\n",
    "    \n",
    "    count = 0\n",
    "    while n > 0:\n",
    "        digit = n % 10  \n",
    "        if digit % 2 == 0: \n",
    "            count += 1  \n",
    "        n //= 10  \n",
    "    \n",
    "    return count\n",
    "\n",
    "number = 246135\n",
    "print(count_even_digits(number))\n"
   ]
  }
 ],
 "metadata": {
  "language_info": {
   "name": "python"
  }
 },
 "nbformat": 4,
 "nbformat_minor": 2
}
