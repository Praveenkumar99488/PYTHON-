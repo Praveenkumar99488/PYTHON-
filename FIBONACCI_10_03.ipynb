{
 "cells": [
  {
   "cell_type": "code",
   "execution_count": null,
   "metadata": {},
   "outputs": [],
   "source": [
    "def fibonacci(n):\n",
    "    if n <= 0:\n",
    "        return []  \n",
    "    elif n == 1:\n",
    "        return [0]  \n",
    "    elif n == 2:\n",
    "        return [0, 1]  \n",
    "\n",
    "    fib_series = [0, 1]  \n",
    "    for i in range(2, n):\n",
    "        next_fib = fib_series[-1] + fib_series[-2]  \n",
    "        fib_series.append(next_fib) \n",
    "\n",
    "    return fib_series\n",
    "\n",
    "n = 10\n",
    "fib_list = fibonacci(n)\n",
    "print(f'First {n} Fibonacci numbers: {fib_list}')  \n"
   ]
  }
 ],
 "metadata": {
  "language_info": {
   "name": "python"
  }
 },
 "nbformat": 4,
 "nbformat_minor": 2
}
